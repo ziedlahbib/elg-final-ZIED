{
 "cells": [
  {
   "cell_type": "markdown",
   "metadata": {},
   "source": [
    "## 1. Read the census data using pandas library"
   ]
  },
  {
   "cell_type": "code",
   "execution_count": 1,
   "metadata": {},
   "outputs": [],
   "source": [
    "import pandas as pd"
   ]
  },
  {
   "cell_type": "code",
   "execution_count": 2,
   "metadata": {},
   "outputs": [],
   "source": [
    "census = pd.read_csv('Data/census_data.csv')"
   ]
  },
  {
   "cell_type": "markdown",
   "metadata": {},
   "source": [
    "## 2. Display the head of the dataset"
   ]
  },
  {
   "cell_type": "code",
   "execution_count": 3,
   "metadata": {},
   "outputs": [
    {
     "data": {
      "text/html": [
       "<div>\n",
       "<style scoped>\n",
       "    .dataframe tbody tr th:only-of-type {\n",
       "        vertical-align: middle;\n",
       "    }\n",
       "\n",
       "    .dataframe tbody tr th {\n",
       "        vertical-align: top;\n",
       "    }\n",
       "\n",
       "    .dataframe thead th {\n",
       "        text-align: right;\n",
       "    }\n",
       "</style>\n",
       "<table border=\"1\" class=\"dataframe\">\n",
       "  <thead>\n",
       "    <tr style=\"text-align: right;\">\n",
       "      <th></th>\n",
       "      <th>age</th>\n",
       "      <th>workclass</th>\n",
       "      <th>education</th>\n",
       "      <th>education_num</th>\n",
       "      <th>marital_status</th>\n",
       "      <th>occupation</th>\n",
       "      <th>relationship</th>\n",
       "      <th>race</th>\n",
       "      <th>gender</th>\n",
       "      <th>capital_gain</th>\n",
       "      <th>capital_loss</th>\n",
       "      <th>hours_per_week</th>\n",
       "      <th>native_country</th>\n",
       "      <th>income_bracket</th>\n",
       "    </tr>\n",
       "  </thead>\n",
       "  <tbody>\n",
       "    <tr>\n",
       "      <th>0</th>\n",
       "      <td>39</td>\n",
       "      <td>State-gov</td>\n",
       "      <td>Bachelors</td>\n",
       "      <td>13</td>\n",
       "      <td>Never-married</td>\n",
       "      <td>Adm-clerical</td>\n",
       "      <td>Not-in-family</td>\n",
       "      <td>White</td>\n",
       "      <td>Male</td>\n",
       "      <td>2174</td>\n",
       "      <td>0</td>\n",
       "      <td>40</td>\n",
       "      <td>United-States</td>\n",
       "      <td>&lt;=50K</td>\n",
       "    </tr>\n",
       "    <tr>\n",
       "      <th>1</th>\n",
       "      <td>50</td>\n",
       "      <td>Self-emp-not-inc</td>\n",
       "      <td>Bachelors</td>\n",
       "      <td>13</td>\n",
       "      <td>Married-civ-spouse</td>\n",
       "      <td>Exec-managerial</td>\n",
       "      <td>Husband</td>\n",
       "      <td>White</td>\n",
       "      <td>Male</td>\n",
       "      <td>0</td>\n",
       "      <td>0</td>\n",
       "      <td>13</td>\n",
       "      <td>United-States</td>\n",
       "      <td>&lt;=50K</td>\n",
       "    </tr>\n",
       "    <tr>\n",
       "      <th>2</th>\n",
       "      <td>38</td>\n",
       "      <td>Private</td>\n",
       "      <td>HS-grad</td>\n",
       "      <td>9</td>\n",
       "      <td>Divorced</td>\n",
       "      <td>Handlers-cleaners</td>\n",
       "      <td>Not-in-family</td>\n",
       "      <td>White</td>\n",
       "      <td>Male</td>\n",
       "      <td>0</td>\n",
       "      <td>0</td>\n",
       "      <td>40</td>\n",
       "      <td>United-States</td>\n",
       "      <td>&lt;=50K</td>\n",
       "    </tr>\n",
       "    <tr>\n",
       "      <th>3</th>\n",
       "      <td>53</td>\n",
       "      <td>Private</td>\n",
       "      <td>11th</td>\n",
       "      <td>7</td>\n",
       "      <td>Married-civ-spouse</td>\n",
       "      <td>Handlers-cleaners</td>\n",
       "      <td>Husband</td>\n",
       "      <td>Black</td>\n",
       "      <td>Male</td>\n",
       "      <td>0</td>\n",
       "      <td>0</td>\n",
       "      <td>40</td>\n",
       "      <td>United-States</td>\n",
       "      <td>&lt;=50K</td>\n",
       "    </tr>\n",
       "    <tr>\n",
       "      <th>4</th>\n",
       "      <td>28</td>\n",
       "      <td>Private</td>\n",
       "      <td>Bachelors</td>\n",
       "      <td>13</td>\n",
       "      <td>Married-civ-spouse</td>\n",
       "      <td>Prof-specialty</td>\n",
       "      <td>Wife</td>\n",
       "      <td>Black</td>\n",
       "      <td>Female</td>\n",
       "      <td>0</td>\n",
       "      <td>0</td>\n",
       "      <td>40</td>\n",
       "      <td>Cuba</td>\n",
       "      <td>&lt;=50K</td>\n",
       "    </tr>\n",
       "  </tbody>\n",
       "</table>\n",
       "</div>"
      ],
      "text/plain": [
       "   age          workclass   education  education_num       marital_status  \\\n",
       "0   39          State-gov   Bachelors             13        Never-married   \n",
       "1   50   Self-emp-not-inc   Bachelors             13   Married-civ-spouse   \n",
       "2   38            Private     HS-grad              9             Divorced   \n",
       "3   53            Private        11th              7   Married-civ-spouse   \n",
       "4   28            Private   Bachelors             13   Married-civ-spouse   \n",
       "\n",
       "           occupation    relationship    race   gender  capital_gain  \\\n",
       "0        Adm-clerical   Not-in-family   White     Male          2174   \n",
       "1     Exec-managerial         Husband   White     Male             0   \n",
       "2   Handlers-cleaners   Not-in-family   White     Male             0   \n",
       "3   Handlers-cleaners         Husband   Black     Male             0   \n",
       "4      Prof-specialty            Wife   Black   Female             0   \n",
       "\n",
       "   capital_loss  hours_per_week  native_country income_bracket  \n",
       "0             0              40   United-States          <=50K  \n",
       "1             0              13   United-States          <=50K  \n",
       "2             0              40   United-States          <=50K  \n",
       "3             0              40   United-States          <=50K  \n",
       "4             0              40            Cuba          <=50K  "
      ]
     },
     "execution_count": 3,
     "metadata": {},
     "output_type": "execute_result"
    }
   ],
   "source": [
    "census.head()"
   ]
  },
  {
   "cell_type": "markdown",
   "metadata": {},
   "source": [
    "## 3. Convert the label column to 0s and 1s instead of strings"
   ]
  },
  {
   "cell_type": "code",
   "execution_count": 4,
   "metadata": {},
   "outputs": [
    {
     "data": {
      "text/plain": [
       "array([' <=50K', ' >50K'], dtype=object)"
      ]
     },
     "execution_count": 4,
     "metadata": {},
     "output_type": "execute_result"
    }
   ],
   "source": [
    "census['income_bracket'].unique()"
   ]
  },
  {
   "cell_type": "code",
   "execution_count": 5,
   "metadata": {},
   "outputs": [],
   "source": [
    "def lable_fix(label):\n",
    "    if label == ' <=50K':\n",
    "        return 0\n",
    "    else:\n",
    "        return 1"
   ]
  },
  {
   "cell_type": "code",
   "execution_count": 6,
   "metadata": {},
   "outputs": [],
   "source": [
    "census['income_bracket'] = census['income_bracket'].apply(lable_fix)"
   ]
  },
  {
   "cell_type": "markdown",
   "metadata": {},
   "source": [
    "## 4. Perform the train test split on the data"
   ]
  },
  {
   "cell_type": "code",
   "execution_count": 7,
   "metadata": {},
   "outputs": [],
   "source": [
    "from sklearn.model_selection import train_test_split"
   ]
  },
  {
   "cell_type": "code",
   "execution_count": 8,
   "metadata": {},
   "outputs": [],
   "source": [
    "x_data = census.drop('income_bracket' , axis = 1)\n",
    "y_lables = census['income_bracket']\n",
    "x_train, x_test, y_train, y_test = train_test_split(x_data, y_lables, test_size=0.3, random_state=101)"
   ]
  },
  {
   "cell_type": "code",
   "execution_count": 9,
   "metadata": {},
   "outputs": [
    {
     "data": {
      "text/plain": [
       "Index(['age', 'workclass', 'education', 'education_num', 'marital_status',\n",
       "       'occupation', 'relationship', 'race', 'gender', 'capital_gain',\n",
       "       'capital_loss', 'hours_per_week', 'native_country', 'income_bracket'],\n",
       "      dtype='object')"
      ]
     },
     "execution_count": 9,
     "metadata": {},
     "output_type": "execute_result"
    }
   ],
   "source": [
    "census.columns"
   ]
  },
  {
   "cell_type": "markdown",
   "metadata": {},
   "source": [
    "## 5. Create feature columns for categorical values using vocabulary lists or hash buckets"
   ]
  },
  {
   "cell_type": "code",
   "execution_count": 10,
   "metadata": {},
   "outputs": [],
   "source": [
    "import tensorflow as tf"
   ]
  },
  {
   "cell_type": "code",
   "execution_count": 11,
   "metadata": {},
   "outputs": [],
   "source": [
    "gender = tf.feature_column.categorical_column_with_vocabulary_list(\"gender\" , [\"Female\", \"Male\"])\n",
    "occupation = tf.feature_column.categorical_column_with_hash_bucket(\"occupation\" , hash_bucket_size=1000)\n",
    "marital_status = tf.feature_column.categorical_column_with_hash_bucket(\"marital_status\" , hash_bucket_size=1000)\n",
    "relationship = tf.feature_column.categorical_column_with_hash_bucket(\"relationship\", hash_bucket_size=1000)\n",
    "education = tf.feature_column.categorical_column_with_hash_bucket(\"education\" ,hash_bucket_size=1000)\n",
    "workclass = tf.feature_column.categorical_column_with_hash_bucket(\"workclass\", hash_bucket_size=1000)\n",
    "native_country = tf.feature_column.categorical_column_with_hash_bucket(\"native_country\", hash_bucket_size=1000)"
   ]
  },
  {
   "cell_type": "markdown",
   "metadata": {},
   "source": [
    "## 6. Create the feature columns for the continuous values using numeric_column"
   ]
  },
  {
   "cell_type": "code",
   "execution_count": 12,
   "metadata": {},
   "outputs": [],
   "source": [
    "age = tf.feature_column.numeric_column(\"age\")\n",
    "education_num = tf.feature_column.numeric_column(\"education_num\")\n",
    "capital_gain = tf.feature_column.numeric_column(\"capital_gain\")\n",
    "capital_loss = tf.feature_column.numeric_column(\"capital_loss\")\n",
    "hours_per_week = tf.feature_column.numeric_column(\"hours_per_week\")"
   ]
  },
  {
   "cell_type": "markdown",
   "metadata": {},
   "source": [
    "## 7. Put all these variables into a single list with variable name feat_cols"
   ]
  },
  {
   "cell_type": "code",
   "execution_count": 13,
   "metadata": {},
   "outputs": [],
   "source": [
    "feat_cols = [gender, occupation, marital_status, relationship, education, workclass, native_country, age, education_num, \n",
    "             capital_gain, capital_loss, hours_per_week]"
   ]
  },
  {
   "cell_type": "markdown",
   "metadata": {},
   "source": [
    "## 8. Create the input function with batch size and epochs"
   ]
  },
  {
   "cell_type": "code",
   "execution_count": 14,
   "metadata": {},
   "outputs": [
    {
     "name": "stdout",
     "output_type": "stream",
     "text": [
      "WARNING:tensorflow:From C:\\Users\\lahbi\\anaconda3\\envs\\PFE\\lib\\site-packages\\tensorflow\\python\\util\\lazy_loader.py:59: The name tf.estimator.inputs is deprecated. Please use tf.compat.v1.estimator.inputs instead.\n",
      "\n",
      "WARNING:tensorflow:From C:\\Users\\lahbi\\AppData\\Local\\Temp\\ipykernel_11248\\3562400737.py:1: The name tf.estimator.inputs.pandas_input_fn is deprecated. Please use tf.compat.v1.estimator.inputs.pandas_input_fn instead.\n",
      "\n"
     ]
    }
   ],
   "source": [
    "input_func = tf.compat.v1.estimator.inputs.pandas_input_fn(x=x_train, y=y_train, batch_size=100, num_epochs=None, shuffle=True)"
   ]
  },
  {
   "cell_type": "markdown",
   "metadata": {},
   "source": [
    "## 9. Create the model with tf.estimator using Linear Classifier"
   ]
  },
  {
   "cell_type": "code",
   "execution_count": 15,
   "metadata": {},
   "outputs": [
    {
     "name": "stdout",
     "output_type": "stream",
     "text": [
      "INFO:tensorflow:Using default config.\n",
      "WARNING:tensorflow:Using temporary folder as model directory: C:\\Users\\lahbi\\AppData\\Local\\Temp\\tmpg1g5ptnv\n",
      "INFO:tensorflow:Using config: {'_model_dir': 'C:\\\\Users\\\\lahbi\\\\AppData\\\\Local\\\\Temp\\\\tmpg1g5ptnv', '_tf_random_seed': None, '_save_summary_steps': 100, '_save_checkpoints_steps': None, '_save_checkpoints_secs': 600, '_session_config': allow_soft_placement: true\n",
      "graph_options {\n",
      "  rewrite_options {\n",
      "    meta_optimizer_iterations: ONE\n",
      "  }\n",
      "}\n",
      ", '_keep_checkpoint_max': 5, '_keep_checkpoint_every_n_hours': 10000, '_log_step_count_steps': 100, '_train_distribute': None, '_device_fn': None, '_protocol': None, '_eval_distribute': None, '_experimental_distribute': None, '_experimental_max_worker_delay_secs': None, '_session_creation_timeout_secs': 7200, '_checkpoint_save_graph_def': True, '_service': None, '_cluster_spec': ClusterSpec({}), '_task_type': 'worker', '_task_id': 0, '_global_id_in_cluster': 0, '_master': '', '_evaluation_master': '', '_is_chief': True, '_num_ps_replicas': 0, '_num_worker_replicas': 1}\n"
     ]
    }
   ],
   "source": [
    "model = tf.estimator.LinearClassifier(feature_columns=feat_cols)"
   ]
  },
  {
   "cell_type": "markdown",
   "metadata": {},
   "source": [
    "## 10. Train the model for atleast 5000 steps"
   ]
  },
  {
   "cell_type": "code",
   "execution_count": 16,
   "metadata": {},
   "outputs": [
    {
     "name": "stdout",
     "output_type": "stream",
     "text": [
      "WARNING:tensorflow:From C:\\Users\\lahbi\\anaconda3\\envs\\PFE\\lib\\site-packages\\tensorflow\\python\\training\\training_util.py:396: Variable.initialized_value (from tensorflow.python.ops.variables) is deprecated and will be removed in a future version.\n",
      "Instructions for updating:\n",
      "Use Variable.read_value. Variables in 2.X are initialized automatically both in eager and graph (inside tf.defun) contexts.\n",
      "WARNING:tensorflow:From C:\\Users\\lahbi\\anaconda3\\envs\\PFE\\lib\\site-packages\\tensorflow_estimator\\python\\estimator\\inputs\\queues\\feeding_queue_runner.py:60: QueueRunner.__init__ (from tensorflow.python.training.queue_runner_impl) is deprecated and will be removed in a future version.\n",
      "Instructions for updating:\n",
      "To construct input pipelines, use the `tf.data` module.\n",
      "WARNING:tensorflow:From C:\\Users\\lahbi\\anaconda3\\envs\\PFE\\lib\\site-packages\\tensorflow_estimator\\python\\estimator\\inputs\\queues\\feeding_functions.py:491: add_queue_runner (from tensorflow.python.training.queue_runner_impl) is deprecated and will be removed in a future version.\n",
      "Instructions for updating:\n",
      "To construct input pipelines, use the `tf.data` module.\n",
      "INFO:tensorflow:Calling model_fn.\n",
      "WARNING:tensorflow:From C:\\Users\\lahbi\\anaconda3\\envs\\PFE\\lib\\site-packages\\keras\\optimizers\\optimizer_v2\\ftrl.py:170: calling Constant.__init__ (from tensorflow.python.ops.init_ops) with dtype is deprecated and will be removed in a future version.\n",
      "Instructions for updating:\n",
      "Call initializer instance with the dtype argument instead of passing it to the constructor\n",
      "INFO:tensorflow:Done calling model_fn.\n",
      "INFO:tensorflow:Create CheckpointSaverHook.\n",
      "INFO:tensorflow:Graph was finalized.\n",
      "INFO:tensorflow:Running local_init_op.\n",
      "INFO:tensorflow:Done running local_init_op.\n",
      "WARNING:tensorflow:From C:\\Users\\lahbi\\anaconda3\\envs\\PFE\\lib\\site-packages\\tensorflow\\python\\training\\monitored_session.py:914: start_queue_runners (from tensorflow.python.training.queue_runner_impl) is deprecated and will be removed in a future version.\n",
      "Instructions for updating:\n",
      "To construct input pipelines, use the `tf.data` module.\n",
      "INFO:tensorflow:Calling checkpoint listeners before saving checkpoint 0...\n",
      "INFO:tensorflow:Saving checkpoints for 0 into C:\\Users\\lahbi\\AppData\\Local\\Temp\\tmpg1g5ptnv\\model.ckpt.\n",
      "INFO:tensorflow:Calling checkpoint listeners after saving checkpoint 0...\n",
      "INFO:tensorflow:loss = 0.6931472, step = 0\n",
      "INFO:tensorflow:global_step/sec: 50.3913\n",
      "INFO:tensorflow:loss = 4.505097, step = 100 (1.985 sec)\n",
      "INFO:tensorflow:global_step/sec: 56.3367\n",
      "INFO:tensorflow:loss = 4.2266316, step = 200 (1.774 sec)\n",
      "INFO:tensorflow:global_step/sec: 55.5486\n",
      "INFO:tensorflow:loss = 1.9037502, step = 300 (1.801 sec)\n",
      "INFO:tensorflow:global_step/sec: 55.8624\n",
      "INFO:tensorflow:loss = 0.3819399, step = 400 (1.790 sec)\n",
      "INFO:tensorflow:global_step/sec: 55.2332\n",
      "INFO:tensorflow:loss = 1.4215941, step = 500 (1.810 sec)\n",
      "INFO:tensorflow:global_step/sec: 54.9536\n",
      "INFO:tensorflow:loss = 1.9477223, step = 600 (1.821 sec)\n",
      "INFO:tensorflow:global_step/sec: 48.7553\n",
      "INFO:tensorflow:loss = 0.4331082, step = 700 (2.051 sec)\n",
      "INFO:tensorflow:global_step/sec: 48.1716\n",
      "INFO:tensorflow:loss = 0.6714485, step = 800 (2.076 sec)\n",
      "INFO:tensorflow:global_step/sec: 48.2277\n",
      "INFO:tensorflow:loss = 1.8439232, step = 900 (2.073 sec)\n",
      "INFO:tensorflow:global_step/sec: 52.2282\n",
      "INFO:tensorflow:loss = 4.4317536, step = 1000 (1.915 sec)\n",
      "INFO:tensorflow:global_step/sec: 52.1613\n",
      "INFO:tensorflow:loss = 5.0097427, step = 1100 (1.916 sec)\n",
      "INFO:tensorflow:global_step/sec: 52.0244\n",
      "INFO:tensorflow:loss = 0.4083721, step = 1200 (1.923 sec)\n",
      "INFO:tensorflow:global_step/sec: 52.2872\n",
      "INFO:tensorflow:loss = 0.30245888, step = 1300 (1.913 sec)\n",
      "INFO:tensorflow:global_step/sec: 52.5183\n",
      "INFO:tensorflow:loss = 3.0941534, step = 1400 (1.905 sec)\n",
      "INFO:tensorflow:global_step/sec: 49.5501\n",
      "INFO:tensorflow:loss = 0.35601103, step = 1500 (2.017 sec)\n",
      "INFO:tensorflow:global_step/sec: 45.3235\n",
      "INFO:tensorflow:loss = 2.9195826, step = 1600 (2.206 sec)\n",
      "INFO:tensorflow:global_step/sec: 50.0933\n",
      "INFO:tensorflow:loss = 0.75354815, step = 1700 (1.997 sec)\n",
      "INFO:tensorflow:global_step/sec: 53.4083\n",
      "INFO:tensorflow:loss = 0.4582568, step = 1800 (1.872 sec)\n",
      "INFO:tensorflow:global_step/sec: 51.9565\n",
      "INFO:tensorflow:loss = 2.808508, step = 1900 (1.924 sec)\n",
      "INFO:tensorflow:global_step/sec: 51.9729\n",
      "INFO:tensorflow:loss = 1.1692328, step = 2000 (1.924 sec)\n",
      "INFO:tensorflow:global_step/sec: 51.0164\n",
      "INFO:tensorflow:loss = 1.3662817, step = 2100 (1.960 sec)\n",
      "INFO:tensorflow:global_step/sec: 50.5742\n",
      "INFO:tensorflow:loss = 0.503594, step = 2200 (1.978 sec)\n",
      "INFO:tensorflow:global_step/sec: 49.0695\n",
      "INFO:tensorflow:loss = 0.3941329, step = 2300 (2.037 sec)\n",
      "INFO:tensorflow:global_step/sec: 48.6786\n",
      "INFO:tensorflow:loss = 0.9787982, step = 2400 (2.055 sec)\n",
      "INFO:tensorflow:global_step/sec: 49.5392\n",
      "INFO:tensorflow:loss = 1.1283437, step = 2500 (2.019 sec)\n",
      "INFO:tensorflow:global_step/sec: 52.5857\n",
      "INFO:tensorflow:loss = 3.9022455, step = 2600 (1.901 sec)\n",
      "INFO:tensorflow:global_step/sec: 52.3411\n",
      "INFO:tensorflow:loss = 3.1939378, step = 2700 (1.911 sec)\n",
      "INFO:tensorflow:global_step/sec: 52.6072\n",
      "INFO:tensorflow:loss = 0.31212735, step = 2800 (1.902 sec)\n",
      "INFO:tensorflow:global_step/sec: 51.3445\n",
      "INFO:tensorflow:loss = 0.95632815, step = 2900 (1.948 sec)\n",
      "INFO:tensorflow:global_step/sec: 52.5068\n",
      "INFO:tensorflow:loss = 0.54800546, step = 3000 (1.905 sec)\n",
      "INFO:tensorflow:global_step/sec: 50.0799\n",
      "INFO:tensorflow:loss = 0.6576315, step = 3100 (1.997 sec)\n",
      "INFO:tensorflow:global_step/sec: 48.151\n",
      "INFO:tensorflow:loss = 0.56487167, step = 3200 (2.076 sec)\n",
      "INFO:tensorflow:global_step/sec: 48.919\n",
      "INFO:tensorflow:loss = 0.39390975, step = 3300 (2.045 sec)\n",
      "INFO:tensorflow:global_step/sec: 52.2974\n",
      "INFO:tensorflow:loss = 0.91248804, step = 3400 (1.912 sec)\n",
      "INFO:tensorflow:global_step/sec: 52.2042\n",
      "INFO:tensorflow:loss = 1.8373452, step = 3500 (1.916 sec)\n",
      "INFO:tensorflow:global_step/sec: 51.0559\n",
      "INFO:tensorflow:loss = 0.35693377, step = 3600 (1.958 sec)\n",
      "INFO:tensorflow:global_step/sec: 48.0084\n",
      "INFO:tensorflow:loss = 0.2938748, step = 3700 (2.084 sec)\n",
      "INFO:tensorflow:global_step/sec: 52.0547\n",
      "INFO:tensorflow:loss = 0.28778276, step = 3800 (1.920 sec)\n",
      "INFO:tensorflow:global_step/sec: 46.3678\n",
      "INFO:tensorflow:loss = 0.63884336, step = 3900 (2.157 sec)\n",
      "INFO:tensorflow:global_step/sec: 47.3406\n",
      "INFO:tensorflow:loss = 0.335072, step = 4000 (2.112 sec)\n",
      "INFO:tensorflow:global_step/sec: 48.9858\n",
      "INFO:tensorflow:loss = 0.40902722, step = 4100 (2.042 sec)\n",
      "INFO:tensorflow:global_step/sec: 52.2702\n",
      "INFO:tensorflow:loss = 1.5479863, step = 4200 (1.913 sec)\n",
      "INFO:tensorflow:global_step/sec: 52.3751\n",
      "INFO:tensorflow:loss = 0.44152012, step = 4300 (1.909 sec)\n",
      "INFO:tensorflow:global_step/sec: 52.5374\n",
      "INFO:tensorflow:loss = 1.1962241, step = 4400 (1.902 sec)\n",
      "INFO:tensorflow:global_step/sec: 51.7256\n",
      "INFO:tensorflow:loss = 0.4294921, step = 4500 (1.933 sec)\n",
      "INFO:tensorflow:global_step/sec: 52.5893\n",
      "INFO:tensorflow:loss = 0.34823912, step = 4600 (1.903 sec)\n",
      "INFO:tensorflow:global_step/sec: 49.2575\n",
      "INFO:tensorflow:loss = 0.2610504, step = 4700 (2.030 sec)\n",
      "INFO:tensorflow:global_step/sec: 48.5589\n",
      "INFO:tensorflow:loss = 0.37410384, step = 4800 (2.059 sec)\n",
      "INFO:tensorflow:global_step/sec: 48.7793\n",
      "INFO:tensorflow:loss = 0.24201119, step = 4900 (2.049 sec)\n",
      "INFO:tensorflow:Calling checkpoint listeners before saving checkpoint 5000...\n",
      "INFO:tensorflow:Saving checkpoints for 5000 into C:\\Users\\lahbi\\AppData\\Local\\Temp\\tmpg1g5ptnv\\model.ckpt.\n",
      "INFO:tensorflow:Calling checkpoint listeners after saving checkpoint 5000...\n",
      "INFO:tensorflow:Loss for final step: 0.4152667.\n"
     ]
    },
    {
     "data": {
      "text/plain": [
       "<tensorflow_estimator.python.estimator.canned.linear.LinearClassifierV2 at 0x15e0d6c7520>"
      ]
     },
     "execution_count": 16,
     "metadata": {},
     "output_type": "execute_result"
    }
   ],
   "source": [
    "model.train(input_fn=input_func, steps=5000)"
   ]
  },
  {
   "cell_type": "markdown",
   "metadata": {},
   "source": [
    "## 11. Evalution of the model"
   ]
  },
  {
   "cell_type": "code",
   "execution_count": 17,
   "metadata": {},
   "outputs": [],
   "source": [
    "pred_fn =tf.compat.v1.estimator.inputs.pandas_input_fn(x=x_test, batch_size=len(x_train), shuffle=False)"
   ]
  },
  {
   "cell_type": "code",
   "execution_count": 18,
   "metadata": {},
   "outputs": [
    {
     "name": "stdout",
     "output_type": "stream",
     "text": [
      "INFO:tensorflow:Calling model_fn.\n",
      "INFO:tensorflow:Done calling model_fn.\n",
      "INFO:tensorflow:Graph was finalized.\n",
      "INFO:tensorflow:Restoring parameters from C:\\Users\\lahbi\\AppData\\Local\\Temp\\tmpg1g5ptnv\\model.ckpt-5000\n",
      "INFO:tensorflow:Running local_init_op.\n",
      "INFO:tensorflow:Done running local_init_op.\n"
     ]
    }
   ],
   "source": [
    "# Using model.predict() and passing the input function. \n",
    "# This will produce a generator of predictions, which can then transformed into list\n",
    "predictions = list(model.predict(input_fn=pred_fn))"
   ]
  },
  {
   "cell_type": "code",
   "execution_count": 19,
   "metadata": {},
   "outputs": [
    {
     "data": {
      "text/plain": [
       "{'logits': array([-1.1218491], dtype=float32),\n",
       " 'logistic': array([0.24566846], dtype=float32),\n",
       " 'probabilities': array([0.7543315 , 0.24566846], dtype=float32),\n",
       " 'class_ids': array([0], dtype=int64),\n",
       " 'classes': array([b'0'], dtype=object),\n",
       " 'all_class_ids': array([0, 1]),\n",
       " 'all_classes': array([b'0', b'1'], dtype=object)}"
      ]
     },
     "execution_count": 19,
     "metadata": {},
     "output_type": "execute_result"
    }
   ],
   "source": [
    "# Each item in the list will look like this\n",
    "predictions[0]"
   ]
  },
  {
   "cell_type": "markdown",
   "metadata": {},
   "source": [
    "## 12. Create a list of class_ids key values from the prediction list of dictionaries. These prediction will be used to compare against y_test values "
   ]
  },
  {
   "cell_type": "code",
   "execution_count": 20,
   "metadata": {},
   "outputs": [],
   "source": [
    "final_preds = []\n",
    "for pred in predictions:\n",
    "    final_preds.append(pred['class_ids'][0])"
   ]
  },
  {
   "cell_type": "code",
   "execution_count": 21,
   "metadata": {},
   "outputs": [
    {
     "data": {
      "text/plain": [
       "[0, 0, 0, 0, 1, 0, 0, 0, 0, 0]"
      ]
     },
     "execution_count": 21,
     "metadata": {},
     "output_type": "execute_result"
    }
   ],
   "source": [
    "final_preds[:10]"
   ]
  },
  {
   "cell_type": "markdown",
   "metadata": {},
   "source": [
    "## 13. Calculating the model performance on Test Data"
   ]
  },
  {
   "cell_type": "code",
   "execution_count": 22,
   "metadata": {},
   "outputs": [],
   "source": [
    "from sklearn.metrics import classification_report"
   ]
  },
  {
   "cell_type": "code",
   "execution_count": 27,
   "metadata": {},
   "outputs": [
    {
     "name": "stdout",
     "output_type": "stream",
     "text": [
      "Accuracy: 0.8409253761899887\n",
      "              precision    recall  f1-score   support\n",
      "\n",
      "           0       0.89      0.90      0.90      7436\n",
      "           1       0.67      0.66      0.67      2333\n",
      "\n",
      "    accuracy                           0.84      9769\n",
      "   macro avg       0.78      0.78      0.78      9769\n",
      "weighted avg       0.84      0.84      0.84      9769\n",
      "\n"
     ]
    }
   ],
   "source": [
    "# Calculate accuracy\n",
    "predicted_classes = [p['class_ids'][0] for p in predictions]\n",
    "correct_predictions = sum(predicted_classes == y_test)\n",
    "total_predictions = len(y_test)\n",
    "accuracy = correct_predictions / total_predictions\n",
    "print(\"Accuracy:\", accuracy)\n",
    "print(classification_report(y_test, final_preds))"
   ]
  },
  {
   "cell_type": "code",
   "execution_count": 28,
   "metadata": {},
   "outputs": [
    {
     "data": {
      "text/html": [
       "<div>\n",
       "<style scoped>\n",
       "    .dataframe tbody tr th:only-of-type {\n",
       "        vertical-align: middle;\n",
       "    }\n",
       "\n",
       "    .dataframe tbody tr th {\n",
       "        vertical-align: top;\n",
       "    }\n",
       "\n",
       "    .dataframe thead th {\n",
       "        text-align: right;\n",
       "    }\n",
       "</style>\n",
       "<table border=\"1\" class=\"dataframe\">\n",
       "  <thead>\n",
       "    <tr style=\"text-align: right;\">\n",
       "      <th></th>\n",
       "      <th>age</th>\n",
       "      <th>workclass</th>\n",
       "      <th>education</th>\n",
       "      <th>education_num</th>\n",
       "      <th>marital_status</th>\n",
       "      <th>occupation</th>\n",
       "      <th>relationship</th>\n",
       "      <th>race</th>\n",
       "      <th>gender</th>\n",
       "      <th>capital_gain</th>\n",
       "      <th>capital_loss</th>\n",
       "      <th>hours_per_week</th>\n",
       "      <th>native_country</th>\n",
       "    </tr>\n",
       "  </thead>\n",
       "  <tbody>\n",
       "    <tr>\n",
       "      <th>20895</th>\n",
       "      <td>22</td>\n",
       "      <td>Private</td>\n",
       "      <td>HS-grad</td>\n",
       "      <td>9</td>\n",
       "      <td>Never-married</td>\n",
       "      <td>Adm-clerical</td>\n",
       "      <td>Own-child</td>\n",
       "      <td>White</td>\n",
       "      <td>Female</td>\n",
       "      <td>0</td>\n",
       "      <td>0</td>\n",
       "      <td>28</td>\n",
       "      <td>United-States</td>\n",
       "    </tr>\n",
       "    <tr>\n",
       "      <th>3384</th>\n",
       "      <td>47</td>\n",
       "      <td>Private</td>\n",
       "      <td>HS-grad</td>\n",
       "      <td>9</td>\n",
       "      <td>Married-civ-spouse</td>\n",
       "      <td>Machine-op-inspct</td>\n",
       "      <td>Wife</td>\n",
       "      <td>Black</td>\n",
       "      <td>Female</td>\n",
       "      <td>15024</td>\n",
       "      <td>0</td>\n",
       "      <td>40</td>\n",
       "      <td>United-States</td>\n",
       "    </tr>\n",
       "    <tr>\n",
       "      <th>1832</th>\n",
       "      <td>46</td>\n",
       "      <td>Local-gov</td>\n",
       "      <td>Some-college</td>\n",
       "      <td>10</td>\n",
       "      <td>Married-civ-spouse</td>\n",
       "      <td>Prof-specialty</td>\n",
       "      <td>Husband</td>\n",
       "      <td>White</td>\n",
       "      <td>Male</td>\n",
       "      <td>0</td>\n",
       "      <td>0</td>\n",
       "      <td>24</td>\n",
       "      <td>United-States</td>\n",
       "    </tr>\n",
       "    <tr>\n",
       "      <th>18919</th>\n",
       "      <td>46</td>\n",
       "      <td>State-gov</td>\n",
       "      <td>Some-college</td>\n",
       "      <td>10</td>\n",
       "      <td>Divorced</td>\n",
       "      <td>Adm-clerical</td>\n",
       "      <td>Unmarried</td>\n",
       "      <td>White</td>\n",
       "      <td>Female</td>\n",
       "      <td>0</td>\n",
       "      <td>0</td>\n",
       "      <td>48</td>\n",
       "      <td>United-States</td>\n",
       "    </tr>\n",
       "    <tr>\n",
       "      <th>31685</th>\n",
       "      <td>60</td>\n",
       "      <td>Private</td>\n",
       "      <td>HS-grad</td>\n",
       "      <td>9</td>\n",
       "      <td>Married-civ-spouse</td>\n",
       "      <td>Adm-clerical</td>\n",
       "      <td>Husband</td>\n",
       "      <td>White</td>\n",
       "      <td>Male</td>\n",
       "      <td>0</td>\n",
       "      <td>0</td>\n",
       "      <td>40</td>\n",
       "      <td>United-States</td>\n",
       "    </tr>\n",
       "    <tr>\n",
       "      <th>...</th>\n",
       "      <td>...</td>\n",
       "      <td>...</td>\n",
       "      <td>...</td>\n",
       "      <td>...</td>\n",
       "      <td>...</td>\n",
       "      <td>...</td>\n",
       "      <td>...</td>\n",
       "      <td>...</td>\n",
       "      <td>...</td>\n",
       "      <td>...</td>\n",
       "      <td>...</td>\n",
       "      <td>...</td>\n",
       "      <td>...</td>\n",
       "    </tr>\n",
       "    <tr>\n",
       "      <th>5695</th>\n",
       "      <td>63</td>\n",
       "      <td>Private</td>\n",
       "      <td>Some-college</td>\n",
       "      <td>10</td>\n",
       "      <td>Divorced</td>\n",
       "      <td>Sales</td>\n",
       "      <td>Not-in-family</td>\n",
       "      <td>White</td>\n",
       "      <td>Female</td>\n",
       "      <td>0</td>\n",
       "      <td>0</td>\n",
       "      <td>60</td>\n",
       "      <td>United-States</td>\n",
       "    </tr>\n",
       "    <tr>\n",
       "      <th>8006</th>\n",
       "      <td>19</td>\n",
       "      <td>Private</td>\n",
       "      <td>HS-grad</td>\n",
       "      <td>9</td>\n",
       "      <td>Never-married</td>\n",
       "      <td>Other-service</td>\n",
       "      <td>Own-child</td>\n",
       "      <td>White</td>\n",
       "      <td>Female</td>\n",
       "      <td>0</td>\n",
       "      <td>0</td>\n",
       "      <td>15</td>\n",
       "      <td>United-States</td>\n",
       "    </tr>\n",
       "    <tr>\n",
       "      <th>17745</th>\n",
       "      <td>62</td>\n",
       "      <td>Private</td>\n",
       "      <td>Assoc-voc</td>\n",
       "      <td>11</td>\n",
       "      <td>Married-civ-spouse</td>\n",
       "      <td>Prof-specialty</td>\n",
       "      <td>Husband</td>\n",
       "      <td>White</td>\n",
       "      <td>Male</td>\n",
       "      <td>7298</td>\n",
       "      <td>0</td>\n",
       "      <td>50</td>\n",
       "      <td>United-States</td>\n",
       "    </tr>\n",
       "    <tr>\n",
       "      <th>17931</th>\n",
       "      <td>49</td>\n",
       "      <td>Private</td>\n",
       "      <td>Some-college</td>\n",
       "      <td>10</td>\n",
       "      <td>Divorced</td>\n",
       "      <td>Other-service</td>\n",
       "      <td>Not-in-family</td>\n",
       "      <td>White</td>\n",
       "      <td>Male</td>\n",
       "      <td>0</td>\n",
       "      <td>0</td>\n",
       "      <td>40</td>\n",
       "      <td>United-States</td>\n",
       "    </tr>\n",
       "    <tr>\n",
       "      <th>13151</th>\n",
       "      <td>41</td>\n",
       "      <td>Local-gov</td>\n",
       "      <td>HS-grad</td>\n",
       "      <td>9</td>\n",
       "      <td>Divorced</td>\n",
       "      <td>Adm-clerical</td>\n",
       "      <td>Not-in-family</td>\n",
       "      <td>White</td>\n",
       "      <td>Female</td>\n",
       "      <td>0</td>\n",
       "      <td>0</td>\n",
       "      <td>40</td>\n",
       "      <td>United-States</td>\n",
       "    </tr>\n",
       "  </tbody>\n",
       "</table>\n",
       "<p>22792 rows × 13 columns</p>\n",
       "</div>"
      ],
      "text/plain": [
       "       age   workclass      education  education_num       marital_status  \\\n",
       "20895   22     Private        HS-grad              9        Never-married   \n",
       "3384    47     Private        HS-grad              9   Married-civ-spouse   \n",
       "1832    46   Local-gov   Some-college             10   Married-civ-spouse   \n",
       "18919   46   State-gov   Some-college             10             Divorced   \n",
       "31685   60     Private        HS-grad              9   Married-civ-spouse   \n",
       "...    ...         ...            ...            ...                  ...   \n",
       "5695    63     Private   Some-college             10             Divorced   \n",
       "8006    19     Private        HS-grad              9        Never-married   \n",
       "17745   62     Private      Assoc-voc             11   Married-civ-spouse   \n",
       "17931   49     Private   Some-college             10             Divorced   \n",
       "13151   41   Local-gov        HS-grad              9             Divorced   \n",
       "\n",
       "               occupation    relationship    race   gender  capital_gain  \\\n",
       "20895        Adm-clerical       Own-child   White   Female             0   \n",
       "3384    Machine-op-inspct            Wife   Black   Female         15024   \n",
       "1832       Prof-specialty         Husband   White     Male             0   \n",
       "18919        Adm-clerical       Unmarried   White   Female             0   \n",
       "31685        Adm-clerical         Husband   White     Male             0   \n",
       "...                   ...             ...     ...      ...           ...   \n",
       "5695                Sales   Not-in-family   White   Female             0   \n",
       "8006        Other-service       Own-child   White   Female             0   \n",
       "17745      Prof-specialty         Husband   White     Male          7298   \n",
       "17931       Other-service   Not-in-family   White     Male             0   \n",
       "13151        Adm-clerical   Not-in-family   White   Female             0   \n",
       "\n",
       "       capital_loss  hours_per_week  native_country  \n",
       "20895             0              28   United-States  \n",
       "3384              0              40   United-States  \n",
       "1832              0              24   United-States  \n",
       "18919             0              48   United-States  \n",
       "31685             0              40   United-States  \n",
       "...             ...             ...             ...  \n",
       "5695              0              60   United-States  \n",
       "8006              0              15   United-States  \n",
       "17745             0              50   United-States  \n",
       "17931             0              40   United-States  \n",
       "13151             0              40   United-States  \n",
       "\n",
       "[22792 rows x 13 columns]"
      ]
     },
     "execution_count": 28,
     "metadata": {},
     "output_type": "execute_result"
    }
   ],
   "source": [
    "x_train"
   ]
  },
  {
   "cell_type": "code",
   "execution_count": 35,
   "metadata": {},
   "outputs": [
    {
     "data": {
      "text/plain": [
       "20895    0\n",
       "3384     1\n",
       "1832     0\n",
       "18919    0\n",
       "31685    0\n",
       "        ..\n",
       "5695     0\n",
       "8006     0\n",
       "17745    1\n",
       "17931    0\n",
       "13151    0\n",
       "Name: income_bracket, Length: 22792, dtype: int64"
      ]
     },
     "execution_count": 35,
     "metadata": {},
     "output_type": "execute_result"
    }
   ],
   "source": [
    "y_train\n"
   ]
  },
  {
   "cell_type": "code",
   "execution_count": 53,
   "metadata": {},
   "outputs": [
    {
     "name": "stdout",
     "output_type": "stream",
     "text": [
      "INFO:tensorflow:Calling model_fn.\n",
      "INFO:tensorflow:Done calling model_fn.\n",
      "INFO:tensorflow:Signatures INCLUDED in export for Classify: None\n",
      "INFO:tensorflow:Signatures INCLUDED in export for Regress: None\n",
      "INFO:tensorflow:Signatures INCLUDED in export for Predict: ['predict']\n",
      "INFO:tensorflow:Signatures INCLUDED in export for Train: None\n",
      "INFO:tensorflow:Signatures INCLUDED in export for Eval: None\n",
      "INFO:tensorflow:Signatures EXCLUDED from export because they cannot be be served via TensorFlow Serving APIs:\n",
      "INFO:tensorflow:'serving_default' : Classification signatures can only accept a single tensor input of type tf.string. Please check to make sure that you have structured the serving_input_receiver_fn so that it creates a single string placeholder. If your model function expects multiple inputs, then use `tf.io.parse_example()` to parse the string into multiple tensors.\n",
      " Received: {'age': <tf.Tensor 'age:0' shape=(1,) dtype=int64>, 'workclass': <tf.Tensor 'workclass:0' shape=(None,) dtype=string>, 'education': <tf.Tensor 'education:0' shape=(None,) dtype=string>, 'education_num': <tf.Tensor 'education_num:0' shape=(None,) dtype=int64>, 'marital_status': <tf.Tensor 'marital_status:0' shape=(None,) dtype=string>, 'occupation': <tf.Tensor 'occupation:0' shape=(None,) dtype=string>, 'relationship': <tf.Tensor 'relationship:0' shape=(None,) dtype=string>, 'race': <tf.Tensor 'race:0' shape=(None,) dtype=string>, 'gender': <tf.Tensor 'gender:0' shape=(None,) dtype=string>, 'capital_gain': <tf.Tensor 'capital_gain:0' shape=(None,) dtype=int64>, 'capital_loss': <tf.Tensor 'capital_loss:0' shape=(None,) dtype=int64>, 'hours_per_week': <tf.Tensor 'hours_per_week:0' shape=(None,) dtype=int64>, 'native_country': <tf.Tensor 'native_country:0' shape=(None,) dtype=string>}\n",
      "INFO:tensorflow:'classification' : Classification signatures can only accept a single tensor input of type tf.string. Please check to make sure that you have structured the serving_input_receiver_fn so that it creates a single string placeholder. If your model function expects multiple inputs, then use `tf.io.parse_example()` to parse the string into multiple tensors.\n",
      " Received: {'age': <tf.Tensor 'age:0' shape=(1,) dtype=int64>, 'workclass': <tf.Tensor 'workclass:0' shape=(None,) dtype=string>, 'education': <tf.Tensor 'education:0' shape=(None,) dtype=string>, 'education_num': <tf.Tensor 'education_num:0' shape=(None,) dtype=int64>, 'marital_status': <tf.Tensor 'marital_status:0' shape=(None,) dtype=string>, 'occupation': <tf.Tensor 'occupation:0' shape=(None,) dtype=string>, 'relationship': <tf.Tensor 'relationship:0' shape=(None,) dtype=string>, 'race': <tf.Tensor 'race:0' shape=(None,) dtype=string>, 'gender': <tf.Tensor 'gender:0' shape=(None,) dtype=string>, 'capital_gain': <tf.Tensor 'capital_gain:0' shape=(None,) dtype=int64>, 'capital_loss': <tf.Tensor 'capital_loss:0' shape=(None,) dtype=int64>, 'hours_per_week': <tf.Tensor 'hours_per_week:0' shape=(None,) dtype=int64>, 'native_country': <tf.Tensor 'native_country:0' shape=(None,) dtype=string>}\n",
      "INFO:tensorflow:'regression' : Regression signatures can only accept a single tensor input of type tf.string. Please check to make sure that you have structured the serving_input_receiver_fn so that it creates a single string placeholder. If your model function expects multiple inputs, then use `tf.io.parse_example()` to parse the string into multiple tensors.\n",
      " Received: {'age': <tf.Tensor 'age:0' shape=(1,) dtype=int64>, 'workclass': <tf.Tensor 'workclass:0' shape=(None,) dtype=string>, 'education': <tf.Tensor 'education:0' shape=(None,) dtype=string>, 'education_num': <tf.Tensor 'education_num:0' shape=(None,) dtype=int64>, 'marital_status': <tf.Tensor 'marital_status:0' shape=(None,) dtype=string>, 'occupation': <tf.Tensor 'occupation:0' shape=(None,) dtype=string>, 'relationship': <tf.Tensor 'relationship:0' shape=(None,) dtype=string>, 'race': <tf.Tensor 'race:0' shape=(None,) dtype=string>, 'gender': <tf.Tensor 'gender:0' shape=(None,) dtype=string>, 'capital_gain': <tf.Tensor 'capital_gain:0' shape=(None,) dtype=int64>, 'capital_loss': <tf.Tensor 'capital_loss:0' shape=(None,) dtype=int64>, 'hours_per_week': <tf.Tensor 'hours_per_week:0' shape=(None,) dtype=int64>, 'native_country': <tf.Tensor 'native_country:0' shape=(None,) dtype=string>}\n",
      "WARNING:tensorflow:Export includes no default signature!\n",
      "INFO:tensorflow:Restoring parameters from C:\\Users\\lahbi\\AppData\\Local\\Temp\\tmpgpd2za_r\\model.ckpt-5000\n",
      "INFO:tensorflow:Assets added to graph.\n",
      "INFO:tensorflow:No assets to write.\n",
      "INFO:tensorflow:SavedModel written to: C:\\my_saved_model\\1690126746\\temp-1690127283\\saved_model.pb\n"
     ]
    },
    {
     "data": {
      "text/plain": [
       "b'C:\\\\my_saved_model\\\\1690126746\\\\1690127283'"
      ]
     },
     "execution_count": 53,
     "metadata": {},
     "output_type": "execute_result"
    }
   ],
   "source": [
    "# Assuming you have created and trained the model using the `tf.estimator.Estimator` API\n",
    "# ...\n",
    "\n",
    "def serving_input_receiver_fn():\n",
    "    # Define the placeholders for each feature\n",
    "    age = tf.compat.v1.placeholder(dtype=tf.int64, shape=[1], name='age')\n",
    "    workclass = tf.compat.v1.placeholder(dtype=tf.string, shape=[None], name='workclass')\n",
    "    education = tf.compat.v1.placeholder(dtype=tf.string, shape=[None], name='education')\n",
    "    education_num = tf.compat.v1.placeholder(dtype=tf.int64, shape=[None], name='education_num')\n",
    "    marital_status = tf.compat.v1.placeholder(dtype=tf.string, shape=[None], name='marital_status')\n",
    "    occupation = tf.compat.v1.placeholder(dtype=tf.string, shape=[None], name='occupation')\n",
    "    relationship = tf.compat.v1.placeholder(dtype=tf.string, shape=[None], name='relationship')\n",
    "    race = tf.compat.v1.placeholder(dtype=tf.string, shape=[None], name='race')\n",
    "    gender = tf.compat.v1.placeholder(dtype=tf.string, shape=[None], name='gender')\n",
    "    capital_gain = tf.compat.v1.placeholder(dtype=tf.int64, shape=[None], name='capital_gain')\n",
    "    capital_loss = tf.compat.v1.placeholder(dtype=tf.int64, shape=[None], name='capital_loss')\n",
    "    hours_per_week = tf.compat.v1.placeholder(dtype=tf.int64, shape=[None], name='hours_per_week')\n",
    "    native_country = tf.compat.v1.placeholder(dtype=tf.string, shape=[None], name='native_country')\n",
    "\n",
    "    # Create a feature dictionary using the placeholders\n",
    "    feature_spec = {\n",
    "        'age': age,\n",
    "        'workclass': workclass,\n",
    "        'education': education,\n",
    "        'education_num': education_num,\n",
    "        'marital_status': marital_status,\n",
    "        'occupation': occupation,\n",
    "        'relationship': relationship,\n",
    "        'race': race,\n",
    "        'gender': gender,\n",
    "        'capital_gain': capital_gain,\n",
    "        'capital_loss': capital_loss,\n",
    "        'hours_per_week': hours_per_week,\n",
    "        'native_country': native_country,\n",
    "    }\n",
    "\n",
    "    # Create a dictionary containing the features\n",
    "    features = {\n",
    "        'age': age,\n",
    "        'workclass': workclass,\n",
    "        'education': education,\n",
    "        'education_num': education_num,\n",
    "        'marital_status': marital_status,\n",
    "        'occupation': occupation,\n",
    "        'relationship': relationship,\n",
    "        'race': race,\n",
    "        'gender': gender,\n",
    "        'capital_gain': capital_gain,\n",
    "        'capital_loss': capital_loss,\n",
    "        'hours_per_week': hours_per_week,\n",
    "        'native_country': native_country,\n",
    "    }\n",
    "    \n",
    "    return tf.estimator.export.ServingInputReceiver(features, feature_spec)\n",
    "\n",
    "\n",
    "\n",
    "\n",
    "# Export the model with the modified signature\n",
    "full_path = r'C:\\my_saved_model\\1690126746'\n",
    "model.export_saved_model(full_path, serving_input_receiver_fn)\n"
   ]
  },
  {
   "cell_type": "code",
   "execution_count": 34,
   "metadata": {},
   "outputs": [
    {
     "name": "stdout",
     "output_type": "stream",
     "text": [
      "INFO:tensorflow:Calling model_fn.\n",
      "INFO:tensorflow:Done calling model_fn.\n",
      "INFO:tensorflow:Graph was finalized.\n",
      "INFO:tensorflow:Restoring parameters from C:\\Users\\lahbi\\AppData\\Local\\Temp\\tmpgpd2za_r\\model.ckpt-5000\n",
      "INFO:tensorflow:Running local_init_op.\n",
      "INFO:tensorflow:Done running local_init_op.\n",
      "Predicted income category: >50k\n"
     ]
    }
   ],
   "source": [
    "import pandas as pd\n",
    "\n",
    "# Create a new DataFrame for the new user\n",
    "#0\n",
    "# new_user = pd.DataFrame({\n",
    "#     'age': [22],\n",
    "#     'workclass': [' Private'],\n",
    "#     'education': [' HS-grad'],\n",
    "#     'education_num': [9],\n",
    "#     'marital_status': [' Never-married'],\n",
    "#     'occupation': [' Adm-clerical'],\n",
    "#     'relationship': [' Own-child'],\n",
    "#     'race': [' White'],\n",
    "#     'gender': [' Female'],\n",
    "#     'capital_gain': [0],\n",
    "#     'capital_loss': [0],\n",
    "#     'hours_per_week': [28],\n",
    "#     'native_country': [' United-States']\n",
    "    \n",
    "# })\n",
    "#1\n",
    "new_user = pd.DataFrame({\n",
    "    'age': [47],\n",
    "    'workclass': [' Private'],\n",
    "    'education': [' HS-grad'],\n",
    "    'education_num': [9],\n",
    "    'marital_status' : [' Married-civ-spouse'],\n",
    "    'occupation': ['Machine-op-inspct'],\n",
    "    'relationship': [' Wife'],\n",
    "    'race': [' Black'],\n",
    "    'gender': [' Female'],\n",
    "    'capital_gain': [15024],\n",
    "    'capital_loss': [0],\n",
    "    'hours_per_week': [40],\n",
    "    'native_country': [' United-States']\n",
    "})\n",
    "# Use the predict method of your trained model to get the predicted income category\n",
    "prediction = model.predict(input_fn=tf.compat.v1.estimator.inputs.pandas_input_fn(new_user, shuffle=False))\n",
    "predicted_class = [p['class_ids'][0] for p in prediction]\n",
    "\n",
    "# Print the predicted income category\n",
    "if predicted_class[0] == 0:\n",
    "    print('Predicted income category: <=50k')\n",
    "else:\n",
    "    print('Predicted income category: >50k')"
   ]
  },
  {
   "cell_type": "code",
   "execution_count": null,
   "metadata": {},
   "outputs": [],
   "source": []
  },
  {
   "cell_type": "code",
   "execution_count": null,
   "metadata": {},
   "outputs": [],
   "source": []
  },
  {
   "cell_type": "code",
   "execution_count": null,
   "metadata": {},
   "outputs": [],
   "source": []
  }
 ],
 "metadata": {
  "kernelspec": {
   "display_name": "Python 3 (ipykernel)",
   "language": "python",
   "name": "python3"
  },
  "language_info": {
   "codemirror_mode": {
    "name": "ipython",
    "version": 3
   },
   "file_extension": ".py",
   "mimetype": "text/x-python",
   "name": "python",
   "nbconvert_exporter": "python",
   "pygments_lexer": "ipython3",
   "version": "3.10.11"
  }
 },
 "nbformat": 4,
 "nbformat_minor": 4
}
